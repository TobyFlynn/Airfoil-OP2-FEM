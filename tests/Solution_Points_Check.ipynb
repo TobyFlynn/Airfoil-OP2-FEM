{
 "cells": [
  {
   "cell_type": "code",
   "execution_count": null,
   "metadata": {},
   "outputs": [],
   "source": [
    "import numpy as np\n",
    "import h5py as h5\n",
    "import matplotlib.pyplot as plt\n",
    "from IPython.display import clear_output"
   ]
  },
  {
   "cell_type": "code",
   "execution_count": null,
   "metadata": {},
   "outputs": [],
   "source": [
    "file = h5.File('points.h5','r')\n",
    "nodes = file['node_coords']\n",
    "x = file['solution_pt_coords_x']\n",
    "y = file['solution_pt_coords_y']\n",
    "\n",
    "cellFile = open('cells.txt', 'r')\n",
    "lines = cellFile.readlines()\n",
    "cells = []\n",
    "for line in lines:\n",
    "    if line == \"\\n\":\n",
    "        break\n",
    "    nums = [int(i) for i in line.split(' ')]\n",
    "    cells.append(nums)"
   ]
  },
  {
   "cell_type": "code",
   "execution_count": null,
   "metadata": {},
   "outputs": [],
   "source": [
    "for i in range(0, len(cells)):\n",
    "    clear_output()\n",
    "    cell = cells[i]\n",
    "    print(cell)\n",
    "    print(nodes[cell[0]])\n",
    "    print(nodes[cell[1]])\n",
    "    print(nodes[cell[2]])\n",
    "    # Get min and max of nodes (to set axes)\n",
    "    minx = min([nodes[cell[0]][0], nodes[cell[1]][0], nodes[cell[2]][0]])\n",
    "    maxx = max([nodes[cell[0]][0], nodes[cell[1]][0], nodes[cell[2]][0]])\n",
    "    miny = min([nodes[cell[0]][1], nodes[cell[1]][1], nodes[cell[2]][1]])\n",
    "    maxy = max([nodes[cell[0]][1], nodes[cell[1]][1], nodes[cell[2]][1]])\n",
    "    # Get x and y coords of solution points\n",
    "    pts_x = x[i]\n",
    "    pts_y = y[i]\n",
    "    # Plot cell\n",
    "    line0 = plt.Line2D([nodes[cell[0]][0], nodes[cell[1]][0]], [nodes[cell[0]][1], nodes[cell[1]][1]])\n",
    "    line1 = plt.Line2D([nodes[cell[1]][0], nodes[cell[2]][0]], [nodes[cell[1]][1], nodes[cell[2]][1]])\n",
    "    line2 = plt.Line2D([nodes[cell[2]][0], nodes[cell[0]][0]], [nodes[cell[2]][1], nodes[cell[0]][1]])\n",
    "    plt.gca().add_line(line0)\n",
    "    plt.gca().add_line(line1)\n",
    "    plt.gca().add_line(line2)\n",
    "    # Plot solution points\n",
    "    plt.scatter(pts_x, pts_y, color=\"red\")\n",
    "    # Set axes\n",
    "    #plt.xlim([minx, maxx])\n",
    "    #plt.ylim([miny, maxy])\n",
    "    plt.show()\n",
    "    \n",
    "    input()"
   ]
  },
  {
   "cell_type": "code",
   "execution_count": null,
   "metadata": {},
   "outputs": [],
   "source": []
  }
 ],
 "metadata": {
  "kernelspec": {
   "display_name": "Python 3",
   "language": "python",
   "name": "python3"
  },
  "language_info": {
   "codemirror_mode": {
    "name": "ipython",
    "version": 3
   },
   "file_extension": ".py",
   "mimetype": "text/x-python",
   "name": "python",
   "nbconvert_exporter": "python",
   "pygments_lexer": "ipython3",
   "version": "3.8.5"
  }
 },
 "nbformat": 4,
 "nbformat_minor": 4
}
